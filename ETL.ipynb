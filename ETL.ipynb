{
 "cells": [
  {
   "cell_type": "code",
   "execution_count": null,
   "metadata": {},
   "outputs": [],
   "source": [
    "import json\n",
    "import requests"
   ]
  },
  {
   "cell_type": "markdown",
   "metadata": {},
   "source": [
    "# Ryan code starts"
   ]
  },
  {
   "cell_type": "code",
   "execution_count": null,
   "metadata": {},
   "outputs": [],
   "source": [
    "# url = \"https://api.covid19api.com/all\"\n",
    "# response = requests.get(url)\n",
    "# with open(\"covid_all.json\", 'w') as jsonfile:\n",
    "#     json.dump(response.json(), jsonfile)"
   ]
  },
  {
   "cell_type": "code",
   "execution_count": null,
   "metadata": {},
   "outputs": [],
   "source": [
    "with open(\"static/data/covid_all.json\") as f:\n",
    "    covid = json.load(f)"
   ]
  },
  {
   "cell_type": "code",
   "execution_count": null,
   "metadata": {},
   "outputs": [],
   "source": [
    "code to store data in MongoDB\n",
    "import pymongo\n",
    "conn = 'mongodb://localhost:27017'\n",
    "client = pymongo.MongoClient(conn)\n",
    "db = client.covid_db\n",
    "for i in range(len(covid)):\n",
    "    db.historical.insert_one(covid[i])"
   ]
  },
  {
   "cell_type": "code",
   "execution_count": null,
   "metadata": {},
   "outputs": [],
   "source": [
    "confirmed = []\n",
    "deaths = []\n",
    "recovered = []"
   ]
  },
  {
   "cell_type": "code",
   "execution_count": null,
   "metadata": {},
   "outputs": [],
   "source": [
    "for i in range(len(covid)):\n",
    "    data = covid[i]\n",
    "    if data['Status'] == 'confirmed':\n",
    "        confirmed.append(data)\n",
    "    elif data['Status'] == 'deaths':\n",
    "        deaths.append(data)\n",
    "    elif data['Status'] == 'recovered':\n",
    "        recovered.append(data)"
   ]
  },
  {
   "cell_type": "code",
   "execution_count": null,
   "metadata": {},
   "outputs": [],
   "source": [
    "def get_date_list(list):\n",
    "    dates = []\n",
    "    for i in range(len(list)):\n",
    "        if list[i]['Date'] not in dates:\n",
    "            dates.append(list[i]['Date'])\n",
    "    return sorted(dates)"
   ]
  },
  {
   "cell_type": "code",
   "execution_count": null,
   "metadata": {},
   "outputs": [],
   "source": [
    "dates_confirmed = []\n",
    "dates_deaths = []\n",
    "dates_recovered = []\n",
    "dates_confirmed = get_date_list(confirmed)\n",
    "dates_deaths = get_date_list(deaths)\n",
    "dates_recovered = get_date_list(recovered)"
   ]
  },
  {
   "cell_type": "code",
   "execution_count": null,
   "metadata": {},
   "outputs": [],
   "source": [
    "covid_clean = {\n",
    "    'confirmed': {},\n",
    "    'deaths': {},\n",
    "    'recovered': {}    \n",
    "}"
   ]
  },
  {
   "cell_type": "code",
   "execution_count": null,
   "metadata": {},
   "outputs": [],
   "source": [
    "def get_date_data(dates, data_list, status):\n",
    "    for i in range(len(dates)):\n",
    "        current = []\n",
    "        for j in range(len(data_list)):\n",
    "            if dates[i] == data_list[j][\"Date\"]:\n",
    "                current.append(data_list[j])\n",
    "        covid_clean[status][dates[i]] = current\n",
    "    return covid_clean"
   ]
  },
  {
   "cell_type": "code",
   "execution_count": null,
   "metadata": {},
   "outputs": [],
   "source": [
    "covid_clean = get_date_data(dates_confirmed, confirmed, 'confirmed')\n",
    "covid_clean = get_date_data(dates_deaths, deaths, 'deaths')\n",
    "covid_clean = get_date_data(dates_recovered, recovered, 'recovered')"
   ]
  },
  {
   "cell_type": "code",
   "execution_count": null,
   "metadata": {},
   "outputs": [],
   "source": [
    "# covid_clean\n",
    "# for i in range(len(dates_deaths)):\n",
    "#     print(len(covid_clean['deaths'][dates_deaths[i]]))"
   ]
  },
  {
   "cell_type": "code",
   "execution_count": null,
   "metadata": {},
   "outputs": [],
   "source": [
    "# import pymongo\n",
    "# conn = 'mongodb://localhost:27017'\n",
    "# client = pymongo.MongoClient(conn)\n",
    "# db = client.covid_db\n",
    "# db.covid_clean.insert_one(covid_clean)  ## this is not working due to oversize\n",
    "\n",
    "# db.covid_confirmed.insert_one(covid_clean['confirmed'])\n",
    "# db.covid_deaths.insert_one(covid_clean['deaths'])\n",
    "# db.covid_recovered.insert_one(covid_clean['recovered'])"
   ]
  },
  {
   "cell_type": "markdown",
   "metadata": {},
   "source": [
    "# Ryan code ends"
   ]
  },
  {
   "cell_type": "markdown",
   "metadata": {},
   "source": [
    "# Kana code starts"
   ]
  },
  {
   "cell_type": "code",
   "execution_count": null,
   "metadata": {},
   "outputs": [],
   "source": [
    "import pandas as pd\n",
    "from datetime import datetime\n",
    "import numpy as np"
   ]
  },
  {
   "cell_type": "code",
   "execution_count": null,
   "metadata": {},
   "outputs": [],
   "source": [
    "# Read unemployment claims data\n",
    "claim_data = pd.read_csv(\"resources/unemployment_by_state.csv\", parse_dates=True)\n",
    "claim_data.head()"
   ]
  },
  {
   "cell_type": "code",
   "execution_count": null,
   "metadata": {},
   "outputs": [],
   "source": [
    "# Select needed columns\n",
    "claim_data = claim_data[['State','Filed week ended','Initial Claims']]\n",
    "claim_data.head()"
   ]
  },
  {
   "cell_type": "code",
   "execution_count": null,
   "metadata": {},
   "outputs": [],
   "source": [
    "# Replace comma with empty space\n",
    "claim_data = claim_data.stack().str.replace(',','').unstack()\n",
    "claim_data.head()"
   ]
  },
  {
   "cell_type": "code",
   "execution_count": null,
   "metadata": {},
   "outputs": [],
   "source": [
    "# Change the date format to be able to sort\n",
    "claim_data['Filed week ended'] = pd.to_datetime(claim_data['Filed week ended'])\n",
    "\n",
    "# Retrive data only after 1/1/2020\n",
    "filtered_claim_data = claim_data.loc[claim_data[\"Filed week ended\"] > \"2020-01-01\"]\n",
    "\n",
    "# Remove timestamp\n",
    "filtered_claim_data[\"Filed week ended\"] = filtered_claim_data[\"Filed week ended\"].map(lambda ts: ts.strftime(\"%Y-%m-%d\"))\n",
    "\n",
    "# Drop na\n",
    "filtered_claim_data = filtered_claim_data.dropna()\n",
    "filtered_claim_data.head()"
   ]
  },
  {
   "cell_type": "code",
   "execution_count": null,
   "metadata": {},
   "outputs": [],
   "source": [
    "# Change data type to int\n",
    "filtered_claim_data['Initial Claims'] = filtered_claim_data['Initial Claims'].astype(int)\n",
    "\n",
    "# Check data type again\n",
    "filtered_claim_data.dtypes"
   ]
  },
  {
   "cell_type": "code",
   "execution_count": null,
   "metadata": {},
   "outputs": [],
   "source": [
    "# Create a dictionary for claims by state for each date\n",
    "df = filtered_claim_data.groupby([\"Filed week ended\", \"State\"]).first().reset_index()\n",
    "datelist = filtered_claim_data[\"Filed week ended\"].unique()\n",
    "claims_jsonfile = {}\n",
    "\n",
    "for i in range(len(datelist)):\n",
    "    claims_jsonfile[datelist[i]] = list()\n",
    "    for j in range(len(df)):\n",
    "        if datelist[i] == df[\"Filed week ended\"].iloc[j]:\n",
    "            state = df['State'][j]\n",
    "            number = df['Initial Claims'][j]\n",
    "            claims_jsonfile[datelist[i]].append({state:number}) \n",
    "claims_jsonfile"
   ]
  },
  {
   "cell_type": "code",
   "execution_count": null,
   "metadata": {},
   "outputs": [],
   "source": [
    "## Kana to solve mystery later##\n",
    "# for key, value in states_clean.items():\n",
    "#     current = []\n",
    "#     for j in range(len(filtered_claim_data['State'])):\n",
    "#         if filtered_claim_data['State'].iloc[j] == key:\n",
    "#             state_claim_dict = {}\n",
    "#             state_claim_dict[filtered_claim_data['Filed week ended'][j]] =filtered_claim_data['Initial Claims'][j]\n",
    "#             current.append(state_claim_dict)\n",
    "#             states_clean[key] = current\n",
    "# print(states_clean)\n",
    "\n",
    "# for key, value in dates_clean.items():\n",
    "#     current = []\n",
    "#     for j in range(len(filtered_claim_data['Filed week ended'])):\n",
    "#         if filtered_claim_data['Filed week ended'].iloc[j] == key:\n",
    "#             state_claim_dict = {}\n",
    "#             print(key)\n",
    "# #             print(filtered_claim_data['Filed week ended'].iloc[j] )\n",
    "        \n",
    "# #             print(state_claim_dict[filtered_claim_data['State'].iloc[j]])\n",
    "#             print(filtered_claim_data['Initial Claims'][j])\n",
    "#             state_claim_dict[filtered_claim_data['State'].iloc[j]] =filtered_claim_data['Initial Claims'][j]\n",
    "#             current.append(state_claim_dict)\n",
    "#             dates_clean[key] = current\n",
    "# print(dates_clean)"
   ]
  },
  {
   "cell_type": "markdown",
   "metadata": {},
   "source": [
    "# Kana code ends"
   ]
  },
  {
   "cell_type": "markdown",
   "metadata": {},
   "source": [
    "# Connor code starts"
   ]
  },
  {
   "cell_type": "code",
   "execution_count": null,
   "metadata": {},
   "outputs": [],
   "source": []
  },
  {
   "cell_type": "markdown",
   "metadata": {},
   "source": [
    "# Connor code ends"
   ]
  },
  {
   "cell_type": "code",
   "execution_count": null,
   "metadata": {},
   "outputs": [],
   "source": []
  },
  {
   "cell_type": "markdown",
   "metadata": {},
   "source": [
    "# Nabeel code starts"
   ]
  },
  {
   "cell_type": "code",
   "execution_count": null,
   "metadata": {},
   "outputs": [],
   "source": []
  },
  {
   "cell_type": "markdown",
   "metadata": {},
   "source": [
    "# Nabeel code ends"
   ]
  }
 ],
 "metadata": {
  "kernelspec": {
   "display_name": "Python 3",
   "language": "python",
   "name": "python3"
  },
  "language_info": {
   "codemirror_mode": {
    "name": "ipython",
    "version": 3
   },
   "file_extension": ".py",
   "mimetype": "text/x-python",
   "name": "python",
   "nbconvert_exporter": "python",
   "pygments_lexer": "ipython3",
   "version": "3.6.9"
  }
 },
 "nbformat": 4,
 "nbformat_minor": 4
}
