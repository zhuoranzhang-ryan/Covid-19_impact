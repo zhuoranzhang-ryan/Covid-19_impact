{
 "cells": [
  {
   "cell_type": "code",
   "execution_count": 1,
   "metadata": {},
   "outputs": [],
   "source": [
    "import json\n",
    "import requests"
   ]
  },
  {
   "cell_type": "markdown",
   "metadata": {},
   "source": [
    "# Ryan code starts"
   ]
  },
  {
   "cell_type": "code",
   "execution_count": null,
   "metadata": {},
   "outputs": [],
   "source": [
    "url = \"https://api.covid19api.com/all\"\n",
    "response = requests.get(url)\n",
    "with open(\"static/data/covid_all.json\", 'w') as jsonfile:\n",
    "    json.dump(response.json(), jsonfile)"
   ]
  },
  {
   "cell_type": "code",
   "execution_count": null,
   "metadata": {},
   "outputs": [],
   "source": [
    "with open(\"static/data/covid_all.json\") as f:\n",
    "    covid = json.load(f)"
   ]
  },
  {
   "cell_type": "code",
   "execution_count": null,
   "metadata": {},
   "outputs": [],
   "source": [
    "# code to store data in MongoDB\n",
    "import pymongo\n",
    "conn = 'mongodb://localhost:27017'\n",
    "client = pymongo.MongoClient(conn)\n",
    "db = client.covid_db\n",
    "db.historical.drop()\n",
    "\n",
    "db.historical.insert_many(covid)"
   ]
  },
  {
   "cell_type": "code",
   "execution_count": 4,
   "metadata": {},
   "outputs": [],
   "source": [
    "confirmed = []\n",
    "deaths = []\n",
    "recovered = []"
   ]
  },
  {
   "cell_type": "code",
   "execution_count": null,
   "metadata": {},
   "outputs": [],
   "source": [
    "for i in range(len(covid)):\n",
    "    data = covid[i]\n",
    "    if data['Status'] == 'confirmed':\n",
    "        confirmed.append(data)\n",
    "    elif data['Status'] == 'deaths':\n",
    "        deaths.append(data)\n",
    "    elif data['Status'] == 'recovered':\n",
    "        recovered.append(data)"
   ]
  },
  {
   "cell_type": "code",
   "execution_count": 2,
   "metadata": {},
   "outputs": [],
   "source": [
    "def get_date_list(list):\n",
    "    dates = []\n",
    "    for i in range(len(list)):\n",
    "        if list[i]['Date'] not in dates:\n",
    "            dates.append(list[i]['Date'])\n",
    "    return sorted(dates)"
   ]
  },
  {
   "cell_type": "code",
   "execution_count": 3,
   "metadata": {},
   "outputs": [
    {
     "output_type": "error",
     "ename": "NameError",
     "evalue": "name 'confirmed' is not defined",
     "traceback": [
      "\u001b[1;31m---------------------------------------------------------------------------\u001b[0m",
      "\u001b[1;31mNameError\u001b[0m                                 Traceback (most recent call last)",
      "\u001b[1;32m<ipython-input-3-a7cbe6492e98>\u001b[0m in \u001b[0;36m<module>\u001b[1;34m\u001b[0m\n\u001b[0;32m      2\u001b[0m \u001b[0mdates_deaths\u001b[0m \u001b[1;33m=\u001b[0m \u001b[1;33m[\u001b[0m\u001b[1;33m]\u001b[0m\u001b[1;33m\u001b[0m\u001b[1;33m\u001b[0m\u001b[0m\n\u001b[0;32m      3\u001b[0m \u001b[0mdates_recovered\u001b[0m \u001b[1;33m=\u001b[0m \u001b[1;33m[\u001b[0m\u001b[1;33m]\u001b[0m\u001b[1;33m\u001b[0m\u001b[1;33m\u001b[0m\u001b[0m\n\u001b[1;32m----> 4\u001b[1;33m \u001b[0mdates_confirmed\u001b[0m \u001b[1;33m=\u001b[0m \u001b[0mget_date_list\u001b[0m\u001b[1;33m(\u001b[0m\u001b[0mconfirmed\u001b[0m\u001b[1;33m)\u001b[0m\u001b[1;33m\u001b[0m\u001b[1;33m\u001b[0m\u001b[0m\n\u001b[0m\u001b[0;32m      5\u001b[0m \u001b[0mdates_deaths\u001b[0m \u001b[1;33m=\u001b[0m \u001b[0mget_date_list\u001b[0m\u001b[1;33m(\u001b[0m\u001b[0mdeaths\u001b[0m\u001b[1;33m)\u001b[0m\u001b[1;33m\u001b[0m\u001b[1;33m\u001b[0m\u001b[0m\n\u001b[0;32m      6\u001b[0m \u001b[0mdates_recovered\u001b[0m \u001b[1;33m=\u001b[0m \u001b[0mget_date_list\u001b[0m\u001b[1;33m(\u001b[0m\u001b[0mrecovered\u001b[0m\u001b[1;33m)\u001b[0m\u001b[1;33m\u001b[0m\u001b[1;33m\u001b[0m\u001b[0m\n",
      "\u001b[1;31mNameError\u001b[0m: name 'confirmed' is not defined"
     ]
    }
   ],
   "source": [
    "dates_confirmed = []\n",
    "dates_deaths = []\n",
    "dates_recovered = []\n",
    "dates_confirmed = get_date_list(confirmed)\n",
    "dates_deaths = get_date_list(deaths)\n",
    "dates_recovered = get_date_list(recovered)"
   ]
  },
  {
   "cell_type": "code",
   "execution_count": null,
   "metadata": {},
   "outputs": [],
   "source": [
    "covid_clean = {\n",
    "    'confirmed': {},\n",
    "    'deaths': {},\n",
    "    'recovered': {}    \n",
    "}"
   ]
  },
  {
   "cell_type": "code",
   "execution_count": 5,
   "metadata": {},
   "outputs": [],
   "source": [
    "def get_date_data(dates, data_list, status):\n",
    "    for i in range(len(dates)):\n",
    "        current = []\n",
    "        for j in range(len(data_list)):\n",
    "            if dates[i] == data_list[j][\"Date\"]:\n",
    "                current.append(data_list[j])\n",
    "        covid_clean[status][dates[i][0:10]] = current\n",
    "    return covid_clean\n",
    "\n",
    "def get_date_data_nostatus(dates, data_list):\n",
    "    data_nostatus = dict()\n",
    "    for i in range(len(dates)):\n",
    "        current = []\n",
    "        for j in range(len(data_list)):\n",
    "            if dates[i] == data_list[j][\"Date\"]:\n",
    "                current.append(data_list[j])\n",
    "        data_nostatus[dates[i][0:10]] = current\n",
    "    return data_nostatus"
   ]
  },
  {
   "cell_type": "code",
   "execution_count": null,
   "metadata": {},
   "outputs": [],
   "source": [
    "covid_clean = get_date_data(dates_confirmed, confirmed, 'confirmed')\n",
    "covid_clean = get_date_data(dates_deaths, deaths, 'deaths')\n",
    "covid_clean = get_date_data(dates_recovered, recovered, 'recovered')"
   ]
  },
  {
   "cell_type": "code",
   "execution_count": null,
   "metadata": {},
   "outputs": [],
   "source": [
    "# covid_clean\n",
    "# for i in range(len(dates_deaths)):\n",
    "#     print(len(covid_clean['deaths'][dates_deaths[i]]))"
   ]
  },
  {
   "cell_type": "code",
   "execution_count": null,
   "metadata": {},
   "outputs": [],
   "source": [
    "# import pymongo\n",
    "# conn = 'mongodb://localhost:27017'\n",
    "# client = pymongo.MongoClient(conn)\n",
    "# db = client.covid_db\n",
    "# db.covid_clean.insert_one(covid_clean)  ## this is not working due to oversize\n",
    "\n",
    "# db.covid_confirmed.insert_one(covid_clean['confirmed'])\n",
    "# db.covid_deaths.insert_one(covid_clean['deaths'])\n",
    "# db.covid_recovered.insert_one(covid_clean['recovered'])"
   ]
  },
  {
   "cell_type": "code",
   "execution_count": 6,
   "metadata": {},
   "outputs": [],
   "source": [
    "url_confirmed = \"https://api.covid19api.com/dayone/country/us/status/confirmed\"\n",
    "url_deaths = \"https://api.covid19api.com/dayone/country/us/status/deaths\"\n",
    "url_recovered = \"https://api.covid19api.com/dayone/country/us/status/recovered\""
   ]
  },
  {
   "cell_type": "code",
   "execution_count": 7,
   "metadata": {},
   "outputs": [],
   "source": [
    "response_confirmed = requests.get(url_confirmed).json()\n",
    "dates_us_confirmed = get_date_list(response_confirmed)\n",
    "us_confirmed_by_dates = get_date_data_nostatus(dates_us_confirmed, response_confirmed)\n",
    "\n",
    "with open(\"static/data/covid_us_confirmed.json\", 'w') as jsonfile:\n",
    "    json.dump(us_confirmed_by_dates, jsonfile)"
   ]
  },
  {
   "cell_type": "code",
   "execution_count": null,
   "metadata": {},
   "outputs": [],
   "source": [
    "date_list = list(us_confirmed_by_dates.keys())\n",
    "adate = date_list"
   ]
  },
  {
   "cell_type": "code",
   "execution_count": 8,
   "metadata": {},
   "outputs": [],
   "source": [
    "response_deaths = requests.get(url_deaths).json()\n",
    "dates_us_deaths = get_date_list(response_deaths)\n",
    "us_deaths_by_dates = get_date_data_nostatus(dates_us_deaths, response_deaths)\n",
    "\n",
    "with open(\"static/data/covid_us_deaths.json\", 'w') as jsonfile:\n",
    "    json.dump(us_deaths_by_dates, jsonfile)"
   ]
  },
  {
   "cell_type": "code",
   "execution_count": 9,
   "metadata": {},
   "outputs": [],
   "source": [
    "response_recovered = requests.get(url_recovered).json()\n",
    "dates_us_recovered = get_date_list(response_recovered)\n",
    "us_recovered_by_dates = get_date_data_nostatus(dates_us_recovered, response_recovered)\n",
    "\n",
    "with open(\"static/data/covid_us_recovered.json\", 'w') as jsonfile:\n",
    "    json.dump(us_recovered_by_dates, jsonfile)"
   ]
  },
  {
   "cell_type": "code",
   "execution_count": null,
   "metadata": {},
   "outputs": [],
   "source": [
    "# dates_us_confirmed = get_date_list(covid_confirmed)\n",
    "# dates_us_deaths = get_date_list(covid_deaths)\n",
    "# dates_us_recovered = get_date_list(covid_recovered)"
   ]
  },
  {
   "cell_type": "code",
   "execution_count": null,
   "metadata": {},
   "outputs": [],
   "source": [
    "import pymongo\n",
    "conn = 'mongodb://localhost:27017'\n",
    "client = pymongo.MongoClient(conn)\n",
    "db = client.covid_db\n",
    "# db.covid_clean.insert_one(covid_clean)  ## this is not working due to oversize\n",
    "db.us_only_confirmed.drop()\n",
    "db.us_only_confirmed.insert_one(us_confirmed_by_dates)\n",
    "db.us_only_deaths.drop()\n",
    "db.us_only_deaths.insert_one(us_deaths_by_dates)\n",
    "db.us_only_recovered.drop()\n",
    "db.us_only_recovered.insert_one(us_recovered_by_dates)"
   ]
  },
  {
   "cell_type": "markdown",
   "metadata": {},
   "source": [
    "# Ryan code ends"
   ]
  },
  {
   "cell_type": "markdown",
   "metadata": {},
   "source": [
    "# Kana code starts"
   ]
  },
  {
   "cell_type": "code",
   "execution_count": 10,
   "metadata": {},
   "outputs": [],
   "source": [
    "import pandas as pd\n",
    "from datetime import datetime\n",
    "import numpy as np\n",
    "import json"
   ]
  },
  {
   "cell_type": "code",
   "execution_count": 11,
   "metadata": {},
   "outputs": [
    {
     "output_type": "execute_result",
     "data": {
      "text/plain": "     State Filed week ended Initial Claims Reflecting Week Ended  \\\n0  Alabama         1/4/2020          4,578            12/28/2019   \n1  Alabama        1/11/2020          3,629              1/4/2020   \n2  Alabama        1/18/2020          2,483             1/11/2020   \n3  Alabama        1/25/2020          2,129             1/18/2020   \n4  Alabama         2/1/2020          2,170             1/25/2020   \n\n  Continued Claims Covered Employment  Insured Unemployment Rate  \n0           18,523          1,923,741                       0.96  \n1           21,143          1,923,741                       1.10  \n2           17,402          1,923,741                       0.90  \n3           18,390          1,923,741                       0.96  \n4           17,284          1,923,741                       0.90  ",
      "text/html": "<div>\n<style scoped>\n    .dataframe tbody tr th:only-of-type {\n        vertical-align: middle;\n    }\n\n    .dataframe tbody tr th {\n        vertical-align: top;\n    }\n\n    .dataframe thead th {\n        text-align: right;\n    }\n</style>\n<table border=\"1\" class=\"dataframe\">\n  <thead>\n    <tr style=\"text-align: right;\">\n      <th></th>\n      <th>State</th>\n      <th>Filed week ended</th>\n      <th>Initial Claims</th>\n      <th>Reflecting Week Ended</th>\n      <th>Continued Claims</th>\n      <th>Covered Employment</th>\n      <th>Insured Unemployment Rate</th>\n    </tr>\n  </thead>\n  <tbody>\n    <tr>\n      <td>0</td>\n      <td>Alabama</td>\n      <td>1/4/2020</td>\n      <td>4,578</td>\n      <td>12/28/2019</td>\n      <td>18,523</td>\n      <td>1,923,741</td>\n      <td>0.96</td>\n    </tr>\n    <tr>\n      <td>1</td>\n      <td>Alabama</td>\n      <td>1/11/2020</td>\n      <td>3,629</td>\n      <td>1/4/2020</td>\n      <td>21,143</td>\n      <td>1,923,741</td>\n      <td>1.10</td>\n    </tr>\n    <tr>\n      <td>2</td>\n      <td>Alabama</td>\n      <td>1/18/2020</td>\n      <td>2,483</td>\n      <td>1/11/2020</td>\n      <td>17,402</td>\n      <td>1,923,741</td>\n      <td>0.90</td>\n    </tr>\n    <tr>\n      <td>3</td>\n      <td>Alabama</td>\n      <td>1/25/2020</td>\n      <td>2,129</td>\n      <td>1/18/2020</td>\n      <td>18,390</td>\n      <td>1,923,741</td>\n      <td>0.96</td>\n    </tr>\n    <tr>\n      <td>4</td>\n      <td>Alabama</td>\n      <td>2/1/2020</td>\n      <td>2,170</td>\n      <td>1/25/2020</td>\n      <td>17,284</td>\n      <td>1,923,741</td>\n      <td>0.90</td>\n    </tr>\n  </tbody>\n</table>\n</div>"
     },
     "metadata": {},
     "execution_count": 11
    }
   ],
   "source": [
    "# Read unemployment claims data\n",
    "# Download the updated data here: https://oui.doleta.gov/unemploy/claims.asp\n",
    "claim_data = pd.read_csv(\"resources/unemployment_by_state.csv\", parse_dates=True)\n",
    "claim_data.head()"
   ]
  },
  {
   "cell_type": "code",
   "execution_count": 12,
   "metadata": {},
   "outputs": [
    {
     "output_type": "execute_result",
     "data": {
      "text/plain": "     State Filed week ended Initial Claims\n0  Alabama         1/4/2020          4,578\n1  Alabama        1/11/2020          3,629\n2  Alabama        1/18/2020          2,483\n3  Alabama        1/25/2020          2,129\n4  Alabama         2/1/2020          2,170",
      "text/html": "<div>\n<style scoped>\n    .dataframe tbody tr th:only-of-type {\n        vertical-align: middle;\n    }\n\n    .dataframe tbody tr th {\n        vertical-align: top;\n    }\n\n    .dataframe thead th {\n        text-align: right;\n    }\n</style>\n<table border=\"1\" class=\"dataframe\">\n  <thead>\n    <tr style=\"text-align: right;\">\n      <th></th>\n      <th>State</th>\n      <th>Filed week ended</th>\n      <th>Initial Claims</th>\n    </tr>\n  </thead>\n  <tbody>\n    <tr>\n      <td>0</td>\n      <td>Alabama</td>\n      <td>1/4/2020</td>\n      <td>4,578</td>\n    </tr>\n    <tr>\n      <td>1</td>\n      <td>Alabama</td>\n      <td>1/11/2020</td>\n      <td>3,629</td>\n    </tr>\n    <tr>\n      <td>2</td>\n      <td>Alabama</td>\n      <td>1/18/2020</td>\n      <td>2,483</td>\n    </tr>\n    <tr>\n      <td>3</td>\n      <td>Alabama</td>\n      <td>1/25/2020</td>\n      <td>2,129</td>\n    </tr>\n    <tr>\n      <td>4</td>\n      <td>Alabama</td>\n      <td>2/1/2020</td>\n      <td>2,170</td>\n    </tr>\n  </tbody>\n</table>\n</div>"
     },
     "metadata": {},
     "execution_count": 12
    }
   ],
   "source": [
    "# Select needed columns\n",
    "claim_data = claim_data[['State','Filed week ended','Initial Claims']]\n",
    "claim_data.head()"
   ]
  },
  {
   "cell_type": "code",
   "execution_count": 13,
   "metadata": {},
   "outputs": [
    {
     "output_type": "execute_result",
     "data": {
      "text/plain": "     State Filed week ended Initial Claims\n0  Alabama         1/4/2020           4578\n1  Alabama        1/11/2020           3629\n2  Alabama        1/18/2020           2483\n3  Alabama        1/25/2020           2129\n4  Alabama         2/1/2020           2170",
      "text/html": "<div>\n<style scoped>\n    .dataframe tbody tr th:only-of-type {\n        vertical-align: middle;\n    }\n\n    .dataframe tbody tr th {\n        vertical-align: top;\n    }\n\n    .dataframe thead th {\n        text-align: right;\n    }\n</style>\n<table border=\"1\" class=\"dataframe\">\n  <thead>\n    <tr style=\"text-align: right;\">\n      <th></th>\n      <th>State</th>\n      <th>Filed week ended</th>\n      <th>Initial Claims</th>\n    </tr>\n  </thead>\n  <tbody>\n    <tr>\n      <td>0</td>\n      <td>Alabama</td>\n      <td>1/4/2020</td>\n      <td>4578</td>\n    </tr>\n    <tr>\n      <td>1</td>\n      <td>Alabama</td>\n      <td>1/11/2020</td>\n      <td>3629</td>\n    </tr>\n    <tr>\n      <td>2</td>\n      <td>Alabama</td>\n      <td>1/18/2020</td>\n      <td>2483</td>\n    </tr>\n    <tr>\n      <td>3</td>\n      <td>Alabama</td>\n      <td>1/25/2020</td>\n      <td>2129</td>\n    </tr>\n    <tr>\n      <td>4</td>\n      <td>Alabama</td>\n      <td>2/1/2020</td>\n      <td>2170</td>\n    </tr>\n  </tbody>\n</table>\n</div>"
     },
     "metadata": {},
     "execution_count": 13
    }
   ],
   "source": [
    "# Replace comma with empty space\n",
    "claim_data = claim_data.stack().str.replace(',','').unstack()\n",
    "claim_data.head()"
   ]
  },
  {
   "cell_type": "code",
   "execution_count": 15,
   "metadata": {},
   "outputs": [
    {
     "output_type": "execute_result",
     "data": {
      "text/plain": "     State Filed week ended Initial Claims\n0  Alabama       2020-01-04           4578\n1  Alabama       2020-01-11           3629\n2  Alabama       2020-01-18           2483\n3  Alabama       2020-01-25           2129\n4  Alabama       2020-02-01           2170",
      "text/html": "<div>\n<style scoped>\n    .dataframe tbody tr th:only-of-type {\n        vertical-align: middle;\n    }\n\n    .dataframe tbody tr th {\n        vertical-align: top;\n    }\n\n    .dataframe thead th {\n        text-align: right;\n    }\n</style>\n<table border=\"1\" class=\"dataframe\">\n  <thead>\n    <tr style=\"text-align: right;\">\n      <th></th>\n      <th>State</th>\n      <th>Filed week ended</th>\n      <th>Initial Claims</th>\n    </tr>\n  </thead>\n  <tbody>\n    <tr>\n      <td>0</td>\n      <td>Alabama</td>\n      <td>2020-01-04</td>\n      <td>4578</td>\n    </tr>\n    <tr>\n      <td>1</td>\n      <td>Alabama</td>\n      <td>2020-01-11</td>\n      <td>3629</td>\n    </tr>\n    <tr>\n      <td>2</td>\n      <td>Alabama</td>\n      <td>2020-01-18</td>\n      <td>2483</td>\n    </tr>\n    <tr>\n      <td>3</td>\n      <td>Alabama</td>\n      <td>2020-01-25</td>\n      <td>2129</td>\n    </tr>\n    <tr>\n      <td>4</td>\n      <td>Alabama</td>\n      <td>2020-02-01</td>\n      <td>2170</td>\n    </tr>\n  </tbody>\n</table>\n</div>"
     },
     "metadata": {},
     "execution_count": 15
    }
   ],
   "source": [
    "# Change the date format to be able to sort\n",
    "claim_data['Filed week ended'] = pd.to_datetime(claim_data['Filed week ended'])\n",
    "\n",
    "# Retrive data only after 1/1/2020\n",
    "filtered_claim_data = claim_data.loc[claim_data[\"Filed week ended\"] > \"2020-01-01\"]\n",
    "\n",
    "# Remove timestamp\n",
    "filtered_claim_data[\"Filed week ended\"] = filtered_claim_data[\"Filed week ended\"].map(lambda ts: ts.strftime(\"%Y-%m-%d\"))\n",
    "\n",
    "# Drop na\n",
    "filtered_claim_data = filtered_claim_data.dropna()\n",
    "filtered_claim_data.head()"
   ]
  },
  {
   "cell_type": "code",
   "execution_count": null,
   "metadata": {},
   "outputs": [],
   "source": [
    "# Replace virgin island with virgin islands\n",
    "# filtered_claim_data = filtered_claim_data.replace(\"Virgin Islands\",\"Virgin Island\")"
   ]
  },
  {
   "cell_type": "code",
   "execution_count": null,
   "metadata": {},
   "outputs": [],
   "source": [
    "# Change data type to int\n",
    "# filtered_claim_data['Initial Claims'] = filtered_claim_data['Initial Claims'].astype(int)\n",
    "\n",
    "# Check data type again\n",
    "filtered_claim_data.dtypes"
   ]
  },
  {
   "cell_type": "code",
   "execution_count": 16,
   "metadata": {},
   "outputs": [
    {
     "output_type": "execute_result",
     "data": {
      "text/plain": "{'2020-01-04': [{'Alabama': '4578'},\n  {'Alaska': '981'},\n  {'Arizona': '3132'},\n  {'Arkansas': '2576'},\n  {'California': '36720'},\n  {'Colorado': '2431'},\n  {'Connecticut': '7852'},\n  {'Delaware': '875'},\n  {'District of Columbia': '481'},\n  {'Florida': '4618'},\n  {'Georgia': '17060'},\n  {'Hawaii': '1825'},\n  {'Idaho': '2957'},\n  {'Illinois': '11779'},\n  {'Indiana': '4434'},\n  {'Iowa': '4586'},\n  {'Kansas': '2019'},\n  {'Kentucky': '5175'},\n  {'Louisiana': '1658'},\n  {'Maine': '1663'},\n  {'Maryland': '3997'},\n  {'Massachusetts': '9464'},\n  {'Michigan': '13207'},\n  {'Minnesota': '7293'},\n  {'Mississippi': '1178'},\n  {'Missouri': '7474'},\n  {'Montana': '1555'},\n  {'Nebraska': '1099'},\n  {'Nevada': '2264'},\n  {'New Hampshire': '690'},\n  {'New Jersey': '15325'},\n  {'New Mexico': '799'},\n  {'New York': '44846'},\n  {'North Carolina': '3508'},\n  {'North Dakota': '836'},\n  {'Ohio': '10759'},\n  {'Oklahoma': '2943'},\n  {'Oregon': '6714'},\n  {'Pennsylvania': '27298'},\n  {'Puerto Rico': '853'},\n  {'Rhode Island': '1972'},\n  {'South Carolina': '7471'},\n  {'South Dakota': '398'},\n  {'Tennessee': '3084'},\n  {'Texas': '12367'},\n  {'Utah': '1518'},\n  {'Vermont': '680'},\n  {'Virgin Islands': '10'},\n  {'Virginia': '3188'},\n  {'Washington': '10024'},\n  {'West Virginia': '1564'},\n  {'Wisconsin': '12854'},\n  {'Wyoming': '662'}],\n '2020-01-11': [{'Alabama': '3629'},\n  {'Alaska': '1371'},\n  {'Arizona': '4654'},\n  {'Arkansas': '2493'},\n  {'California': '51993'},\n  {'Colorado': '3001'},\n  {'Connecticut': '5986'},\n  {'Delaware': '1107'},\n  {'District of Columbia': '706'},\n  {'Florida': '6862'},\n  {'Georgia': '17962'},\n  {'Hawaii': '1826'},\n  {'Idaho': '2131'},\n  {'Illinois': '12703'},\n  {'Indiana': '4890'},\n  {'Iowa': '4836'},\n  {'Kansas': '2140'},\n  {'Kentucky': '3968'},\n  {'Louisiana': '2521'},\n  {'Maine': '1561'},\n  {'Maryland': '4627'},\n  {'Massachusetts': '8784'},\n  {'Michigan': '14245'},\n  {'Minnesota': '5933'},\n  {'Mississippi': '1515'},\n  {'Missouri': '10913'},\n  {'Montana': '1755'},\n  {'Nebraska': '1171'},\n  {'Nevada': '2792'},\n  {'New Hampshire': '722'},\n  {'New Jersey': '13469'},\n  {'New Mexico': '1194'},\n  {'New York': '23314'},\n  {'North Carolina': '4628'},\n  {'North Dakota': '1530'},\n  {'Ohio': '9957'},\n  {'Oklahoma': '2034'},\n  {'Oregon': '6215'},\n  {'Pennsylvania': '26356'},\n  {'Puerto Rico': '836'},\n  {'Rhode Island': '1817'},\n  {'South Carolina': '4629'},\n  {'South Dakota': '468'},\n  {'Tennessee': '3711'},\n  {'Texas': '21902'},\n  {'Utah': '1834'},\n  {'Vermont': '649'},\n  {'Virgin Islands': '24'},\n  {'Virginia': '3643'},\n  {'Washington': '9069'},\n  {'West Virginia': '2638'},\n  {'Wisconsin': '8255'},\n  {'Wyoming': '829'}],\n '2020-01-18': [{'Alabama': '2483'},\n  {'Alaska': '1181'},\n  {'Arizona': '4152'},\n  {'Arkansas': '1729'},\n  {'California': '64858'},\n  {'Colorado': '2522'},\n  {'Connecticut': '3776'},\n  {'Delaware': '830'},\n  {'District of Columbia': '594'},\n  {'Florida': '6088'},\n  {'Georgia': '8161'},\n  {'Hawaii': '1234'},\n  {'Idaho': '2172'},\n  {'Illinois': '14807'},\n  {'Indiana': '3741'},\n  {'Iowa': '3615'},\n  {'Kansas': '2402'},\n  {'Kentucky': '3084'},\n  {'Louisiana': '2008'},\n  {'Maine': '959'},\n  {'Maryland': '3739'},\n  {'Massachusetts': '6940'},\n  {'Michigan': '10304'},\n  {'Minnesota': '4463'},\n  {'Mississippi': '1135'},\n  {'Missouri': '4938'},\n  {'Montana': '1236'},\n  {'Nebraska': '988'},\n  {'Nevada': '2451'},\n  {'New Hampshire': '613'},\n  {'New Jersey': '10728'},\n  {'New Mexico': '947'},\n  {'New York': '17823'},\n  {'North Carolina': '4217'},\n  {'North Dakota': '785'},\n  {'Ohio': '7865'},\n  {'Oklahoma': '1981'},\n  {'Oregon': '4051'},\n  {'Pennsylvania': '16218'},\n  {'Puerto Rico': '3124'},\n  {'Rhode Island': '1194'},\n  {'South Carolina': '3126'},\n  {'South Dakota': '338'},\n  {'Tennessee': '3093'},\n  {'Texas': '15783'},\n  {'Utah': '1458'},\n  {'Vermont': '755'},\n  {'Virgin Islands': '40'},\n  {'Virginia': '2831'},\n  {'Washington': '9079'},\n  {'West Virginia': '1895'},\n  {'Wisconsin': '6388'},\n  {'Wyoming': '636'}],\n '2020-01-25': [{'Alabama': '2129'},\n  {'Alaska': '1003'},\n  {'Arizona': '3475'},\n  {'Arkansas': '1683'},\n  {'California': '45596'},\n  {'Colorado': '2164'},\n  {'Connecticut': '2949'},\n  {'Delaware': '674'},\n  {'District of Columbia': '534'},\n  {'Florida': '5206'},\n  {'Georgia': '5257'},\n  {'Hawaii': '1014'},\n  {'Idaho': '1821'},\n  {'Illinois': '9762'},\n  {'Indiana': '2956'},\n  {'Iowa': '3115'},\n  {'Kansas': '2557'},\n  {'Kentucky': '2569'},\n  {'Louisiana': '1878'},\n  {'Maine': '944'},\n  {'Maryland': '3283'},\n  {'Massachusetts': '6022'},\n  {'Michigan': '7678'},\n  {'Minnesota': '3931'},\n  {'Mississippi': '993'},\n  {'Missouri': '5474'},\n  {'Montana': '922'},\n  {'Nebraska': '960'},\n  {'Nevada': '2101'},\n  {'New Hampshire': '577'},\n  {'New Jersey': '9325'},\n  {'New Mexico': '764'},\n  {'New York': '15022'},\n  {'North Carolina': '3344'},\n  {'North Dakota': '543'},\n  {'Ohio': '8086'},\n  {'Oklahoma': '1830'},\n  {'Oregon': '4457'},\n  {'Pennsylvania': '13359'},\n  {'Puerto Rico': '2335'},\n  {'Rhode Island': '1048'},\n  {'South Carolina': '2248'},\n  {'South Dakota': '291'},\n  {'Tennessee': '2484'},\n  {'Texas': '13070'},\n  {'Utah': '1271'},\n  {'Vermont': '518'},\n  {'Virgin Islands': '44'},\n  {'Virginia': '3059'},\n  {'Washington': '8072'},\n  {'West Virginia': '1290'},\n  {'Wisconsin': '6134'},\n  {'Wyoming': '531'}],\n '2020-02-01': [{'Alabama': '2170'},\n  {'Alaska': '1122'},\n  {'Arizona': '3807'},\n  {'Arkansas': '1837'},\n  {'California': '43458'},\n  {'Colorado': '2049'},\n  {'Connecticut': '2994'},\n  {'Delaware': '622'},\n  {'District of Columbia': '539'},\n  {'Florida': '5457'},\n  {'Georgia': '5199'},\n  {'Hawaii': '1135'},\n  {'Idaho': '1446'},\n  {'Illinois': '9343'},\n  {'Indiana': '3016'},\n  {'Iowa': '3066'},\n  {'Kansas': '2000'},\n  {'Kentucky': '2625'},\n  {'Louisiana': '2058'},\n  {'Maine': '881'},\n  {'Maryland': '3203'},\n  {'Massachusetts': '5523'},\n  {'Michigan': '6869'},\n  {'Minnesota': '3700'},\n  {'Mississippi': '963'},\n  {'Missouri': '4801'},\n  {'Montana': '902'},\n  {'Nebraska': '833'},\n  {'Nevada': '2286'},\n  {'New Hampshire': '456'},\n  {'New Jersey': '8304'},\n  {'New Mexico': '784'},\n  {'New York': '16545'},\n  {'North Carolina': '3611'},\n  {'North Dakota': '447'},\n  {'Ohio': '7329'},\n  {'Oklahoma': '1779'},\n  {'Oregon': '4853'},\n  {'Pennsylvania': '15893'},\n  {'Puerto Rico': '1998'},\n  {'Rhode Island': '971'},\n  {'South Carolina': '2099'},\n  {'South Dakota': '217'},\n  {'Tennessee': '2362'},\n  {'Texas': '13818'},\n  {'Utah': '1290'},\n  {'Vermont': '481'},\n  {'Virgin Islands': '35'},\n  {'Virginia': '2575'},\n  {'Washington': '6619'},\n  {'West Virginia': '1364'},\n  {'Wisconsin': '6280'},\n  {'Wyoming': '529'}],\n '2020-02-08': [{'Alabama': '2176'},\n  {'Alaska': '980'},\n  {'Arizona': '3636'},\n  {'Arkansas': '1724'},\n  {'California': '40392'},\n  {'Colorado': '2482'},\n  {'Connecticut': '2944'},\n  {'Delaware': '608'},\n  {'District of Columbia': '508'},\n  {'Florida': '5605'},\n  {'Georgia': '5577'},\n  {'Hawaii': '1137'},\n  {'Idaho': '1443'},\n  {'Illinois': '9794'},\n  {'Indiana': '2725'},\n  {'Iowa': '2379'},\n  {'Kansas': '2107'},\n  {'Kentucky': '2936'},\n  {'Louisiana': '1805'},\n  {'Maine': '702'},\n  {'Maryland': '3150'},\n  {'Massachusetts': '5878'},\n  {'Michigan': '6627'},\n  {'Minnesota': '4108'},\n  {'Mississippi': '968'},\n  {'Missouri': '3670'},\n  {'Montana': '935'},\n  {'Nebraska': '675'},\n  {'Nevada': '2794'},\n  {'New Hampshire': '507'},\n  {'New Jersey': '9288'},\n  {'New Mexico': '873'},\n  {'New York': '15010'},\n  {'North Carolina': '3326'},\n  {'North Dakota': '526'},\n  {'Ohio': '6825'},\n  {'Oklahoma': '1715'},\n  {'Oregon': '4953'},\n  {'Pennsylvania': '14425'},\n  {'Puerto Rico': '1770'},\n  {'Rhode Island': '959'},\n  {'South Carolina': '2054'},\n  {'South Dakota': '223'},\n  {'Tennessee': '2161'},\n  {'Texas': '13869'},\n  {'Utah': '1303'},\n  {'Vermont': '475'},\n  {'Virgin Islands': '45'},\n  {'Virginia': '3097'},\n  {'Washington': '7161'},\n  {'West Virginia': '1206'},\n  {'Wisconsin': '6579'},\n  {'Wyoming': '589'}],\n '2020-02-15': [{'Alabama': '1981'},\n  {'Alaska': '915'},\n  {'Arizona': '3538'},\n  {'Arkansas': '1602'},\n  {'California': '43445'},\n  {'Colorado': '2209'},\n  {'Connecticut': '2520'},\n  {'Delaware': '610'},\n  {'District of Columbia': '473'},\n  {'Florida': '5229'},\n  {'Georgia': '6277'},\n  {'Hawaii': '1199'},\n  {'Idaho': '1356'},\n  {'Illinois': '8045'},\n  {'Indiana': '2556'},\n  {'Iowa': '2239'},\n  {'Kansas': '2076'},\n  {'Kentucky': '2813'},\n  {'Louisiana': '1739'},\n  {'Maine': '790'},\n  {'Maryland': '3048'},\n  {'Massachusetts': '5393'},\n  {'Michigan': '5587'},\n  {'Minnesota': '3641'},\n  {'Mississippi': '861'},\n  {'Missouri': '3363'},\n  {'Montana': '921'},\n  {'Nebraska': '537'},\n  {'Nevada': '2543'},\n  {'New Hampshire': '424'},\n  {'New Jersey': '8550'},\n  {'New Mexico': '725'},\n  {'New York': '14333'},\n  {'North Carolina': '3094'},\n  {'North Dakota': '457'},\n  {'Ohio': '6532'},\n  {'Oklahoma': '1633'},\n  {'Oregon': '4284'},\n  {'Pennsylvania': '13583'},\n  {'Puerto Rico': '1588'},\n  {'Rhode Island': '996'},\n  {'South Carolina': '2088'},\n  {'South Dakota': '194'},\n  {'Tennessee': '2140'},\n  {'Texas': '12790'},\n  {'Utah': '1097'},\n  {'Vermont': '543'},\n  {'Virgin Islands': '40'},\n  {'Virginia': '2693'},\n  {'Washington': '6311'},\n  {'West Virginia': '1172'},\n  {'Wisconsin': '5808'},\n  {'Wyoming': '598'}],\n '2020-02-22': [{'Alabama': '1735'},\n  {'Alaska': '773'},\n  {'Arizona': '3151'},\n  {'Arkansas': '1055'},\n  {'California': '34979'},\n  {'Colorado': '1862'},\n  {'Connecticut': '2435'},\n  {'Delaware': '632'},\n  {'District of Columbia': '422'},\n  {'Florida': '4861'},\n  {'Georgia': '5030'},\n  {'Hawaii': '1020'},\n  {'Idaho': '1114'},\n  {'Illinois': '11812'},\n  {'Indiana': '2979'},\n  {'Iowa': '2631'},\n  {'Kansas': '1494'},\n  {'Kentucky': '2508'},\n  {'Louisiana': '1798'},\n  {'Maine': '737'},\n  {'Maryland': '2700'},\n  {'Massachusetts': '9264'},\n  {'Michigan': '5942'},\n  {'Minnesota': '3539'},\n  {'Mississippi': '827'},\n  {'Missouri': '3063'},\n  {'Montana': '795'},\n  {'Nebraska': '493'},\n  {'Nevada': '2052'},\n  {'New Hampshire': '444'},\n  {'New Jersey': '8396'},\n  {'New Mexico': '737'},\n  {'New York': '14144'},\n  {'North Carolina': '2852'},\n  {'North Dakota': '435'},\n  {'Ohio': '6208'},\n  {'Oklahoma': '1509'},\n  {'Oregon': '3514'},\n  {'Pennsylvania': '12631'},\n  {'Puerto Rico': '1390'},\n  {'Rhode Island': '1921'},\n  {'South Carolina': '1824'},\n  {'South Dakota': '191'},\n  {'Tennessee': '1855'},\n  {'Texas': '12047'},\n  {'Utah': '1008'},\n  {'Vermont': '610'},\n  {'Virgin Islands': '55'},\n  {'Virginia': '2079'},\n  {'Washington': '5585'},\n  {'West Virginia': '1207'},\n  {'Wisconsin': '6098'},\n  {'Wyoming': '389'}],\n '2020-02-29': [{'Alabama': '1575'},\n  {'Alaska': '874'},\n  {'Arizona': '3086'},\n  {'Arkansas': '1418'},\n  {'California': '41678'},\n  {'Colorado': '1681'},\n  {'Connecticut': '2843'},\n  {'Delaware': '524'},\n  {'District of Columbia': '452'},\n  {'Florida': '4853'},\n  {'Georgia': '5538'},\n  {'Hawaii': '1049'},\n  {'Idaho': '998'},\n  {'Illinois': '8980'},\n  {'Indiana': '2276'},\n  {'Iowa': '2240'},\n  {'Kansas': '1517'},\n  {'Kentucky': '2223'},\n  {'Louisiana': '1509'},\n  {'Maine': '862'},\n  {'Maryland': '2626'},\n  {'Massachusetts': '4865'},\n  {'Michigan': '5419'},\n  {'Minnesota': '3410'},\n  {'Mississippi': '744'},\n  {'Missouri': '2732'},\n  {'Montana': '695'},\n  {'Nebraska': '502'},\n  {'Nevada': '2324'},\n  {'New Hampshire': '894'},\n  {'New Jersey': '7773'},\n  {'New Mexico': '681'},\n  {'New York': '31208'},\n  {'North Carolina': '1767'},\n  {'North Dakota': '363'},\n  {'Ohio': '9916'},\n  {'Oklahoma': '1458'},\n  {'Oregon': '3936'},\n  {'Pennsylvania': '12045'},\n  {'Puerto Rico': '1296'},\n  {'Rhode Island': '874'},\n  {'South Carolina': '1977'},\n  {'South Dakota': '159'},\n  {'Tennessee': '2014'},\n  {'Texas': '12692'},\n  {'Utah': '885'},\n  {'Vermont': '863'},\n  {'Virgin Islands': '37'},\n  {'Virginia': '3267'},\n  {'Washington': '5770'},\n  {'West Virginia': '1108'},\n  {'Wisconsin': '5658'},\n  {'Wyoming': '471'}],\n '2020-03-07': [{'Alabama': '1663'},\n  {'Alaska': '815'},\n  {'Arizona': '3357'},\n  {'Arkansas': '1843'},\n  {'California': '43385'},\n  {'Colorado': '1865'},\n  {'Connecticut': '2527'},\n  {'Delaware': '518'},\n  {'District of Columbia': '471'},\n  {'Florida': '5325'},\n  {'Georgia': '4569'},\n  {'Hawaii': '1275'},\n  {'Idaho': '938'},\n  {'Illinois': '8727'},\n  {'Indiana': '2223'},\n  {'Iowa': '2221'},\n  {'Kansas': '1365'},\n  {'Kentucky': '2463'},\n  {'Louisiana': '1698'},\n  {'Maine': '715'},\n  {'Maryland': '2675'},\n  {'Massachusetts': '4712'},\n  {'Michigan': '5150'},\n  {'Minnesota': '3488'},\n  {'Mississippi': '879'},\n  {'Missouri': '2994'},\n  {'Montana': '714'},\n  {'Nebraska': '501'},\n  {'Nevada': '2309'},\n  {'New Hampshire': '495'},\n  {'New Jersey': '7996'},\n  {'New Mexico': '690'},\n  {'New York': '14035'},\n  {'North Carolina': '2575'},\n  {'North Dakota': '423'},\n  {'Ohio': '6545'},\n  {'Oklahoma': '1569'},\n  {'Oregon': '4154'},\n  {'Pennsylvania': '12227'},\n  {'Puerto Rico': '1343'},\n  {'Rhode Island': '700'},\n  {'South Carolina': '1889'},\n  {'South Dakota': '185'},\n  {'Tennessee': '2032'},\n  {'Texas': '14355'},\n  {'Utah': '1015'},\n  {'Vermont': '446'},\n  {'Virgin Islands': '64'},\n  {'Virginia': '2527'},\n  {'Washington': '6616'},\n  {'West Virginia': '1033'},\n  {'Wisconsin': '5052'},\n  {'Wyoming': '534'}],\n '2020-03-14': [{'Alabama': '1819'},\n  {'Alaska': '1120'},\n  {'Arizona': '3844'},\n  {'Arkansas': '1382'},\n  {'California': '57606'},\n  {'Colorado': '2321'},\n  {'Connecticut': '3440'},\n  {'Delaware': '472'},\n  {'District of Columbia': '1213'},\n  {'Florida': '6463'},\n  {'Georgia': '5445'},\n  {'Hawaii': '1589'},\n  {'Idaho': '1031'},\n  {'Illinois': '10870'},\n  {'Indiana': '2596'},\n  {'Iowa': '2229'},\n  {'Kansas': '1755'},\n  {'Kentucky': '2785'},\n  {'Louisiana': '2255'},\n  {'Maine': '634'},\n  {'Maryland': '3864'},\n  {'Massachusetts': '7449'},\n  {'Michigan': '5338'},\n  {'Minnesota': '4010'},\n  {'Mississippi': '1147'},\n  {'Missouri': '4016'},\n  {'Montana': '817'},\n  {'Nebraska': '795'},\n  {'Nevada': '6356'},\n  {'New Hampshire': '642'},\n  {'New Jersey': '9467'},\n  {'New Mexico': '869'},\n  {'New York': '14272'},\n  {'North Carolina': '3533'},\n  {'North Dakota': '415'},\n  {'Ohio': '7046'},\n  {'Oklahoma': '1836'},\n  {'Oregon': '4269'},\n  {'Pennsylvania': '15439'},\n  {'Puerto Rico': '1172'},\n  {'Rhode Island': '1108'},\n  {'South Carolina': '2093'},\n  {'South Dakota': '190'},\n  {'Tennessee': '2702'},\n  {'Texas': '16176'},\n  {'Utah': '1305'},\n  {'Vermont': '659'},\n  {'Virgin Islands': '44'},\n  {'Virginia': '2706'},\n  {'Washington': '14240'},\n  {'West Virginia': '865'},\n  {'Wisconsin': '5190'},\n  {'Wyoming': '517'}],\n '2020-03-21': [{'Alabama': '10892'},\n  {'Alaska': '7847'},\n  {'Arizona': '29348'},\n  {'Arkansas': '9275'},\n  {'California': '186333'},\n  {'Colorado': '19774'},\n  {'Connecticut': '25100'},\n  {'Delaware': '10776'},\n  {'District of Columbia': '14462'},\n  {'Florida': '74313'},\n  {'Georgia': '12140'},\n  {'Hawaii': '8817'},\n  {'Idaho': '13586'},\n  {'Illinois': '114114'},\n  {'Indiana': '59755'},\n  {'Iowa': '40952'},\n  {'Kansas': '23563'},\n  {'Kentucky': '49023'},\n  {'Louisiana': '72438'},\n  {'Maine': '21459'},\n  {'Maryland': '42981'},\n  {'Massachusetts': '148452'},\n  {'Michigan': '128006'},\n  {'Minnesota': '115773'},\n  {'Mississippi': '5519'},\n  {'Missouri': '42246'},\n  {'Montana': '15349'},\n  {'Nebraska': '15700'},\n  {'Nevada': '92298'},\n  {'New Hampshire': '29379'},\n  {'New Jersey': '115815'},\n  {'New Mexico': '18105'},\n  {'New York': '79999'},\n  {'North Carolina': '94083'},\n  {'North Dakota': '5662'},\n  {'Ohio': '196309'},\n  {'Oklahoma': '21926'},\n  {'Oregon': '30054'},\n  {'Pennsylvania': '377451'},\n  {'Puerto Rico': '20148'},\n  {'Rhode Island': '35847'},\n  {'South Carolina': '31826'},\n  {'South Dakota': '1761'},\n  {'Tennessee': '38077'},\n  {'Texas': '155426'},\n  {'Utah': '19690'},\n  {'Vermont': '3784'},\n  {'Virgin Islands': '123'},\n  {'Virginia': '46277'},\n  {'Washington': '129909'},\n  {'West Virginia': '3536'},\n  {'Wisconsin': '51031'},\n  {'Wyoming': '3653'}],\n '2020-03-28': [{'Alabama': '80984'},\n  {'Alaska': '13774'},\n  {'Arizona': '88940'},\n  {'Arkansas': '27756'},\n  {'California': '1058325'},\n  {'Colorado': '61838'},\n  {'Connecticut': '33227'},\n  {'Delaware': '19137'},\n  {'District of Columbia': '15869'},\n  {'Florida': '228484'},\n  {'Georgia': '133820'},\n  {'Hawaii': '48596'},\n  {'Idaho': '32941'},\n  {'Illinois': '178421'},\n  {'Indiana': '139174'},\n  {'Iowa': '55966'},\n  {'Kansas': '54330'},\n  {'Kentucky': '113149'},\n  {'Louisiana': '97400'},\n  {'Maine': '23770'},\n  {'Maryland': '85317'},\n  {'Massachusetts': '181423'},\n  {'Michigan': '304335'},\n  {'Minnesota': '109095'},\n  {'Mississippi': '32015'},\n  {'Missouri': '104291'},\n  {'Montana': '20763'},\n  {'Nebraska': '24725'},\n  {'Nevada': '71942'},\n  {'New Hampshire': '31378'},\n  {'New Jersey': '206253'},\n  {'New Mexico': '27849'},\n  {'New York': '366595'},\n  {'North Carolina': '172145'},\n  {'North Dakota': '11818'},\n  {'Ohio': '274288'},\n  {'Oklahoma': '47744'},\n  {'Oregon': '47498'},\n  {'Pennsylvania': '404677'},\n  {'Puerto Rico': '45394'},\n  {'Rhode Island': '27800'},\n  {'South Carolina': '66475'},\n  {'South Dakota': '6801'},\n  {'Tennessee': '92500'},\n  {'Texas': '276185'},\n  {'Utah': '28532'},\n  {'Vermont': '14633'},\n  {'Virgin Islands': '250'},\n  {'Virginia': '112497'},\n  {'Washington': '182849'},\n  {'West Virginia': '14523'},\n  {'Wisconsin': '110934'},\n  {'Wyoming': '6396'}]}"
     },
     "metadata": {},
     "execution_count": 16
    }
   ],
   "source": [
    "# Create a dictionary for claims by state for each date\n",
    "df = filtered_claim_data.groupby([\"Filed week ended\", \"State\"]).first().reset_index()\n",
    "datelist = filtered_claim_data[\"Filed week ended\"].unique()\n",
    "claims_jsonfile = {}\n",
    "\n",
    "for i in range(len(datelist)):\n",
    "    claims_jsonfile[datelist[i]] = list()\n",
    "    for j in range(len(df)):\n",
    "        if datelist[i] == df[\"Filed week ended\"].iloc[j]:\n",
    "            state = df['State'][j]\n",
    "            number = df['Initial Claims'][j]\n",
    "            claims_jsonfile[datelist[i]].append({state:number}) \n",
    "claims_jsonfile"
   ]
  },
  {
   "cell_type": "code",
   "execution_count": null,
   "metadata": {},
   "outputs": [],
   "source": [
    "## Kana to solve mystery later##\n",
    "# for key, value in states_clean.items():\n",
    "#     current = []\n",
    "#     for j in range(len(filtered_claim_data['State'])):\n",
    "#         if filtered_claim_data['State'].iloc[j] == key:\n",
    "#             state_claim_dict = {}\n",
    "#             state_claim_dict[filtered_claim_data['Filed week ended'][j]] =filtered_claim_data['Initial Claims'][j]\n",
    "#             current.append(state_claim_dict)\n",
    "#             states_clean[key] = current\n",
    "# print(states_clean)\n",
    "\n",
    "# for key, value in dates_clean.items():\n",
    "#     current = []\n",
    "#     for j in range(len(filtered_claim_data['Filed week ended'])):\n",
    "#         if filtered_claim_data['Filed week ended'].iloc[j] == key:\n",
    "#             state_claim_dict = {}\n",
    "#             print(key)\n",
    "# #             print(filtered_claim_data['Filed week ended'].iloc[j] )\n",
    "        \n",
    "# #             print(state_claim_dict[filtered_claim_data['State'].iloc[j]])\n",
    "#             print(filtered_claim_data['Initial Claims'][j])\n",
    "#             state_claim_dict[filtered_claim_data['State'].iloc[j]] =filtered_claim_data['Initial Claims'][j]\n",
    "#             current.append(state_claim_dict)\n",
    "#             dates_clean[key] = current\n",
    "# print(dates_clean)"
   ]
  },
  {
   "cell_type": "code",
   "execution_count": 17,
   "metadata": {},
   "outputs": [],
   "source": [
    "with open('static/data/unemployment_claims.json', 'w') as outfile:\n",
    "    json.dump(claims_jsonfile, outfile)\n",
    "# claims_jsonfile.to_json(path_or_buf='unemployment_claims.json')"
   ]
  },
  {
   "cell_type": "markdown",
   "metadata": {},
   "source": [
    "# Kana code ends"
   ]
  },
  {
   "cell_type": "markdown",
   "metadata": {},
   "source": [
    "# Connor code starts"
   ]
  },
  {
   "cell_type": "code",
   "execution_count": null,
   "metadata": {},
   "outputs": [],
   "source": []
  },
  {
   "cell_type": "markdown",
   "metadata": {},
   "source": [
    "# Connor code ends"
   ]
  },
  {
   "cell_type": "code",
   "execution_count": null,
   "metadata": {},
   "outputs": [],
   "source": []
  },
  {
   "cell_type": "markdown",
   "metadata": {},
   "source": [
    "# Nabeel code starts"
   ]
  },
  {
   "cell_type": "code",
   "execution_count": null,
   "metadata": {},
   "outputs": [],
   "source": []
  },
  {
   "cell_type": "markdown",
   "metadata": {},
   "source": [
    "# Nabeel code ends"
   ]
  }
 ],
 "metadata": {
  "kernelspec": {
   "display_name": "Python 3",
   "language": "python",
   "name": "python3"
  },
  "language_info": {
   "codemirror_mode": {
    "name": "ipython",
    "version": 3
   },
   "file_extension": ".py",
   "mimetype": "text/x-python",
   "name": "python",
   "nbconvert_exporter": "python",
   "pygments_lexer": "ipython3",
   "version": "3.7.4-final"
  }
 },
 "nbformat": 4,
 "nbformat_minor": 4
}