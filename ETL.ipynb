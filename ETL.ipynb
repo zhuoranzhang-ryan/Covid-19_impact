{
 "cells": [
  {
   "cell_type": "code",
   "execution_count": 2,
   "metadata": {},
   "outputs": [],
   "source": [
    "import json\n",
    "import requests"
   ]
  },
  {
   "cell_type": "markdown",
   "metadata": {},
   "source": [
    "# Ryan code starts"
   ]
  },
  {
   "cell_type": "markdown",
   "metadata": {},
   "source": [
    "#### Make API call for historical dataset and store into local json file"
   ]
  },
  {
   "cell_type": "code",
   "execution_count": 3,
   "metadata": {},
   "outputs": [],
   "source": [
    "url = \"https://api.covid19api.com/all\"\n",
    "response = requests.get(url)\n",
    "with open(\"static/data/covid_all.json\", 'w') as jsonfile:\n",
    "    json.dump(response.json(), jsonfile)"
   ]
  },
  {
   "cell_type": "code",
   "execution_count": 4,
   "metadata": {},
   "outputs": [],
   "source": [
    "with open(\"static/data/covid_all.json\") as f:\n",
    "    covid = json.load(f)"
   ]
  },
  {
   "cell_type": "code",
   "execution_count": 5,
   "metadata": {},
   "outputs": [
    {
     "data": {
      "text/plain": [
       "<pymongo.results.InsertManyResult at 0x2b1b6e81908>"
      ]
     },
     "execution_count": 5,
     "metadata": {},
     "output_type": "execute_result"
    }
   ],
   "source": [
    "# code to store data in MongoDB\n",
    "import pymongo\n",
    "conn = 'mongodb://localhost:27017'\n",
    "client = pymongo.MongoClient(conn)\n",
    "db = client.covid_db\n",
    "db.historical.drop()\n",
    "\n",
    "db.historical.insert_many(covid)"
   ]
  },
  {
   "cell_type": "code",
   "execution_count": 6,
   "metadata": {},
   "outputs": [],
   "source": [
    "confirmed = []\n",
    "deaths = []\n",
    "recovered = []"
   ]
  },
  {
   "cell_type": "markdown",
   "metadata": {},
   "source": [
    "#### Separate historical data by status"
   ]
  },
  {
   "cell_type": "code",
   "execution_count": 5,
   "metadata": {},
   "outputs": [],
   "source": [
    "for i in range(len(covid)):\n",
    "    data = covid[i]\n",
    "    if data['Status'] == 'confirmed':\n",
    "        confirmed.append(data)\n",
    "    elif data['Status'] == 'deaths':\n",
    "        deaths.append(data)\n",
    "    elif data['Status'] == 'recovered':\n",
    "        recovered.append(data)"
   ]
  },
  {
   "cell_type": "code",
   "execution_count": 7,
   "metadata": {},
   "outputs": [],
   "source": [
    "def get_date_list(list):\n",
    "    dates = []\n",
    "    for i in range(len(list)):\n",
    "        if list[i]['Date'] not in dates:\n",
    "            dates.append(list[i]['Date'])\n",
    "    return sorted(dates)"
   ]
  },
  {
   "cell_type": "code",
   "execution_count": 8,
   "metadata": {},
   "outputs": [],
   "source": [
    "dates_confirmed = []\n",
    "dates_deaths = []\n",
    "dates_recovered = []\n",
    "dates_confirmed = get_date_list(confirmed)\n",
    "dates_deaths = get_date_list(deaths)\n",
    "dates_recovered = get_date_list(recovered)"
   ]
  },
  {
   "cell_type": "code",
   "execution_count": 9,
   "metadata": {},
   "outputs": [],
   "source": [
    "covid_clean = {\n",
    "    'confirmed': {},\n",
    "    'deaths': {},\n",
    "    'recovered': {}    \n",
    "}"
   ]
  },
  {
   "cell_type": "code",
   "execution_count": 10,
   "metadata": {},
   "outputs": [],
   "source": [
    "def get_date_data(dates, data_list, status):\n",
    "    for i in range(len(dates)):\n",
    "        current = []\n",
    "        for j in range(len(data_list)):\n",
    "            if dates[i] == data_list[j][\"Date\"]:\n",
    "                current.append(data_list[j])\n",
    "        covid_clean[status][dates[i][0:10]] = current\n",
    "    return covid_clean\n",
    "\n",
    "def get_date_data_nostatus(dates, data_list):\n",
    "    data_nostatus = dict()\n",
    "    for i in range(len(dates)):\n",
    "        current = []\n",
    "        for j in range(len(data_list)):\n",
    "            if dates[i] == data_list[j][\"Date\"]:\n",
    "                current.append(data_list[j])\n",
    "        data_nostatus[dates[i][0:10]] = current\n",
    "    return data_nostatus"
   ]
  },
  {
   "cell_type": "code",
   "execution_count": 11,
   "metadata": {},
   "outputs": [],
   "source": [
    "covid_clean = get_date_data(dates_confirmed, confirmed, 'confirmed')\n",
    "covid_clean = get_date_data(dates_deaths, deaths, 'deaths')\n",
    "covid_clean = get_date_data(dates_recovered, recovered, 'recovered')"
   ]
  },
  {
   "cell_type": "code",
   "execution_count": 47,
   "metadata": {},
   "outputs": [],
   "source": [
    "# covid_clean\n",
    "# for i in range(len(dates_deaths)):\n",
    "#     print(len(covid_clean['deaths'][dates_deaths[i]]))"
   ]
  },
  {
   "cell_type": "code",
   "execution_count": 51,
   "metadata": {},
   "outputs": [],
   "source": [
    "# import pymongo\n",
    "# conn = 'mongodb://localhost:27017'\n",
    "# client = pymongo.MongoClient(conn)\n",
    "# db = client.covid_db\n",
    "# db.covid_clean.insert_one(covid_clean)  ## this is not working due to oversize\n",
    "\n",
    "# db.covid_confirmed.insert_one(covid_clean['confirmed'])\n",
    "# db.covid_deaths.insert_one(covid_clean['deaths'])\n",
    "# db.covid_recovered.insert_one(covid_clean['recovered'])"
   ]
  },
  {
   "cell_type": "code",
   "execution_count": 12,
   "metadata": {},
   "outputs": [],
   "source": [
    "url_confirmed = \"https://api.covid19api.com/dayone/country/us/status/confirmed\"\n",
    "url_deaths = \"https://api.covid19api.com/dayone/country/us/status/deaths\"\n",
    "url_recovered = \"https://api.covid19api.com/dayone/country/us/status/recovered\""
   ]
  },
  {
   "cell_type": "code",
   "execution_count": 13,
   "metadata": {},
   "outputs": [],
   "source": [
    "response_confirmed = requests.get(url_confirmed).json()\n",
    "dates_us_confirmed = get_date_list(response_confirmed)\n",
    "us_confirmed_by_dates = get_date_data_nostatus(dates_us_confirmed, response_confirmed)\n",
    "\n",
    "with open(\"static/data/covid_us_confirmed.json\", 'w') as jsonfile:\n",
    "    json.dump(us_confirmed_by_dates, jsonfile)"
   ]
  },
  {
   "cell_type": "code",
   "execution_count": 14,
   "metadata": {},
   "outputs": [],
   "source": [
    "date_list = list(us_confirmed_by_dates.keys())\n",
    "adate = date_list"
   ]
  },
  {
   "cell_type": "code",
   "execution_count": 15,
   "metadata": {},
   "outputs": [],
   "source": [
    "response_deaths = requests.get(url_deaths).json()\n",
    "dates_us_deaths = get_date_list(response_deaths)\n",
    "us_deaths_by_dates = get_date_data_nostatus(dates_us_deaths, response_deaths)\n",
    "\n",
    "with open(\"static/data/covid_us_deaths.json\", 'w') as jsonfile:\n",
    "    json.dump(us_deaths_by_dates, jsonfile)"
   ]
  },
  {
   "cell_type": "code",
   "execution_count": 16,
   "metadata": {},
   "outputs": [],
   "source": [
    "response_recovered = requests.get(url_recovered).json()\n",
    "dates_us_recovered = get_date_list(response_recovered)\n",
    "us_recovered_by_dates = get_date_data_nostatus(dates_us_recovered, response_recovered)\n",
    "\n",
    "with open(\"static/data/covid_us_recovered.json\", 'w') as jsonfile:\n",
    "    json.dump(us_recovered_by_dates, jsonfile)"
   ]
  },
  {
   "cell_type": "code",
   "execution_count": 15,
   "metadata": {},
   "outputs": [],
   "source": [
    "# dates_us_confirmed = get_date_list(covid_confirmed)\n",
    "# dates_us_deaths = get_date_list(covid_deaths)\n",
    "# dates_us_recovered = get_date_list(covid_recovered)"
   ]
  },
  {
   "cell_type": "code",
   "execution_count": 17,
   "metadata": {},
   "outputs": [
    {
     "data": {
      "text/plain": [
       "<pymongo.results.InsertOneResult at 0x2b1a9d43588>"
      ]
     },
     "execution_count": 17,
     "metadata": {},
     "output_type": "execute_result"
    }
   ],
   "source": [
    "import pymongo\n",
    "conn = 'mongodb://localhost:27017'\n",
    "client = pymongo.MongoClient(conn)\n",
    "db = client.covid_db\n",
    "# db.covid_clean.insert_one(covid_clean)  ## this is not working due to oversize\n",
    "db.us_only_confirmed.drop()\n",
    "db.us_only_confirmed.insert_one(us_confirmed_by_dates)\n",
    "db.us_only_deaths.drop()\n",
    "db.us_only_deaths.insert_one(us_deaths_by_dates)\n",
    "db.us_only_recovered.drop()\n",
    "db.us_only_recovered.insert_one(us_recovered_by_dates)"
   ]
  },
  {
   "cell_type": "code",
   "execution_count": null,
   "metadata": {},
   "outputs": [],
   "source": []
  },
  {
   "cell_type": "code",
   "execution_count": null,
   "metadata": {},
   "outputs": [],
   "source": []
  },
  {
   "cell_type": "markdown",
   "metadata": {},
   "source": [
    "# Ryan code ends"
   ]
  },
  {
   "cell_type": "markdown",
   "metadata": {},
   "source": [
    "# Kana code starts"
   ]
  },
  {
   "cell_type": "code",
   "execution_count": null,
   "metadata": {},
   "outputs": [],
   "source": []
  },
  {
   "cell_type": "markdown",
   "metadata": {},
   "source": [
    "# Kana code ends"
   ]
  },
  {
   "cell_type": "markdown",
   "metadata": {},
   "source": [
    "# Connor code starts"
   ]
  },
  {
   "cell_type": "code",
   "execution_count": null,
   "metadata": {},
   "outputs": [],
   "source": []
  },
  {
   "cell_type": "markdown",
   "metadata": {},
   "source": [
    "# Connor code ends"
   ]
  },
  {
   "cell_type": "code",
   "execution_count": null,
   "metadata": {},
   "outputs": [],
   "source": []
  },
  {
   "cell_type": "markdown",
   "metadata": {},
   "source": [
    "# Nabeel code starts"
   ]
  },
  {
   "cell_type": "code",
   "execution_count": null,
   "metadata": {},
   "outputs": [],
   "source": []
  },
  {
   "cell_type": "markdown",
   "metadata": {},
   "source": [
    "# Nabeel code ends"
   ]
  }
 ],
 "metadata": {
  "kernelspec": {
   "display_name": "Python 3",
   "language": "python",
   "name": "python3"
  },
  "language_info": {
   "codemirror_mode": {
    "name": "ipython",
    "version": 3
   },
   "file_extension": ".py",
   "mimetype": "text/x-python",
   "name": "python",
   "nbconvert_exporter": "python",
   "pygments_lexer": "ipython3",
   "version": "3.6.10"
  }
 },
 "nbformat": 4,
 "nbformat_minor": 4
}
